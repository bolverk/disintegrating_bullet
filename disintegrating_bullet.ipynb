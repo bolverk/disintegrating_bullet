{
 "cells": [
  {
   "cell_type": "markdown",
   "metadata": {},
   "source": [
    "Loading libraries and setting up the environment"
   ]
  },
  {
   "cell_type": "code",
   "execution_count": 3,
   "metadata": {
    "collapsed": true
   },
   "outputs": [],
   "source": [
    "import sympy\n",
    "sympy.init_printing()"
   ]
  },
  {
   "cell_type": "markdown",
   "metadata": {
    "collapsed": true
   },
   "source": [
    "# Newtonian Case"
   ]
  },
  {
   "cell_type": "markdown",
   "metadata": {},
   "source": [
    "Equation of motion"
   ]
  },
  {
   "cell_type": "code",
   "execution_count": 4,
   "metadata": {},
   "outputs": [
    {
     "data": {
      "image/png": "[encoded data removed]",
      "text/latex": [
       "$$m \\frac{d}{d t} v{\\left (t \\right )} = A p$$"
      ],
      "text/plain": [
       "  d             \n",
       "m⋅──(v(t)) = A⋅p\n",
       "  dt            "
      ]
     },
     "execution_count": 4,
     "metadata": {},
     "output_type": "execute_result"
    }
   ],
   "source": [
    "m = sympy.Symbol('m', positive=True) # Mass of the bullet\n",
    "v = sympy.Symbol('v', positive=True) # Velocity\n",
    "t = sympy.Symbol('t', positive=True) # Time\n",
    "A = sympy.Symbol('A', positive=True) # Bullet cross section\n",
    "p = sympy.Symbol('p') # Pressure\n",
    "eqn_of_motion = sympy.Eq(v(t).diff(t)*m,A*p)\n",
    "eqn_of_motion"
   ]
  },
  {
   "cell_type": "markdown",
   "metadata": {},
   "source": [
    "Conservation of the Riemann invariant"
   ]
  },
  {
   "cell_type": "code",
   "execution_count": 5,
   "metadata": {},
   "outputs": [
    {
     "data": {
      "image/png": "[encoded data removed]",
      "text/latex": [
       "$$\\frac{2 c}{\\eta - 1} + v = \\frac{2 c_{0}}{\\eta - 1}$$"
      ],
      "text/plain": [
       " 2⋅c         2⋅c₀\n",
       "───── + v = ─────\n",
       "η - 1       η - 1"
      ]
     },
     "execution_count": 5,
     "metadata": {},
     "output_type": "execute_result"
    }
   ],
   "source": [
    "c_0 = sympy.Symbol('c_0', positive=True) # Initial speed of sound\n",
    "c = sympy.Symbol('c', positive=True) # Speed of sound\n",
    "eta = sympy.Symbol('eta', positive=True) # Adiabatic index (I'm not using gamma to avoid confusion with the Lorentz factor)\n",
    "riemann_invariant_conservation = sympy.Eq(v+2*c/(eta-1),2*c_0/(eta-1))\n",
    "riemann_invariant_conservation"
   ]
  },
  {
   "cell_type": "markdown",
   "metadata": {},
   "source": [
    "Isentropic relation"
   ]
  },
  {
   "cell_type": "code",
   "execution_count": 6,
   "metadata": {},
   "outputs": [
    {
     "data": {
      "image/png": "[encoded data removed]",
      "text/latex": [
       "$$\\frac{p}{\\rho^{\\eta}} = \\frac{p_{0}}{\\rho_{0}^{\\eta}}$$"
      ],
      "text/plain": [
       "   -η        -η\n",
       "p⋅ρ   = p₀⋅ρ₀  "
      ]
     },
     "execution_count": 6,
     "metadata": {},
     "output_type": "execute_result"
    }
   ],
   "source": [
    "rho = sympy.Symbol('rho') # Density\n",
    "rho_0 = sympy.Symbol('rho_0', positive=True) # Initial density\n",
    "p_0 = sympy.Symbol('p_0', positive=True) # Initial pressure\n",
    "entropy_conservation = sympy.Eq(p/rho**eta,p_0/rho_0**eta)\n",
    "entropy_conservation"
   ]
  },
  {
   "cell_type": "markdown",
   "metadata": {},
   "source": [
    "It will be more useful to relate the pressure to the speed of sound"
   ]
  },
  {
   "cell_type": "code",
   "execution_count": 7,
   "metadata": {},
   "outputs": [
    {
     "data": {
      "image/png": "[encoded data removed]",
      "text/latex": [
       "$$p^{- \\eta + 1} \\left(\\frac{c^{2}}{\\eta}\\right)^{\\eta} = p_{0}^{- \\eta + 1} \\left(\\frac{c_{0}^{2}}{\\eta}\\right)^{\\eta}$$"
      ],
      "text/plain": [
       "            η                 η\n",
       "        ⎛ 2⎞             ⎛  2⎞ \n",
       " -η + 1 ⎜c ⎟      -η + 1 ⎜c₀ ⎟ \n",
       "p      ⋅⎜──⎟  = p₀      ⋅⎜───⎟ \n",
       "        ⎝η ⎠             ⎝ η ⎠ "
      ]
     },
     "execution_count": 7,
     "metadata": {},
     "output_type": "execute_result"
    }
   ],
   "source": [
    "temp = entropy_conservation\n",
    "temp = temp.subs(rho, eta*p/c**2)\n",
    "temp = temp.subs(rho_0, eta*p_0/c_0**2)\n",
    "temp = sympy.expand_power_base(temp,force=True).simplify()\n",
    "entropy_p_vs_c = temp\n",
    "entropy_p_vs_c"
   ]
  },
  {
   "cell_type": "markdown",
   "metadata": {},
   "source": [
    "Pressure as a function of velocity"
   ]
  },
  {
   "cell_type": "code",
   "execution_count": 8,
   "metadata": {},
   "outputs": [
    {
     "data": {
      "image/png": "[encoded data removed]",
      "text/latex": [
       "$$p = p_{0} \\left(\\frac{1}{4 c_{0}^{2}} \\left(2 c_{0} - \\eta v + v\\right)^{2}\\right)^{\\frac{\\eta}{\\eta - 1}}$$"
      ],
      "text/plain": [
       "                            η  \n",
       "                          ─────\n",
       "                          η - 1\n",
       "       ⎛                2⎞     \n",
       "       ⎜(2⋅c₀ - η⋅v + v) ⎟     \n",
       "p = p₀⋅⎜─────────────────⎟     \n",
       "       ⎜          2      ⎟     \n",
       "       ⎝      4⋅c₀       ⎠     "
      ]
     },
     "execution_count": 8,
     "metadata": {},
     "output_type": "execute_result"
    }
   ],
   "source": [
    "temp = entropy_conservation\n",
    "temp = temp.subs(rho,eta*p/c**2)\n",
    "temp = temp.subs(rho_0,eta*p_0/c_0**2)\n",
    "temp = temp.subs(sympy.solve(riemann_invariant_conservation,c,dict=True)[0])\n",
    "temp = sympy.expand_power_base(temp,force=True)\n",
    "temp = sympy.solve(temp,p)[0]\n",
    "temp = sympy.expand_power_base(temp, force=True).simplify()\n",
    "p_vs_v = temp\n",
    "sympy.Eq(p,p_vs_v)"
   ]
  },
  {
   "cell_type": "markdown",
   "metadata": {},
   "source": [
    "Terminal velocity"
   ]
  },
  {
   "cell_type": "code",
   "execution_count": 9,
   "metadata": {},
   "outputs": [
    {
     "data": {
      "image/png": "[encoded data removed]",
      "text/latex": [
       "$$\\frac{2 c_{0}}{\\eta - 1}$$"
      ],
      "text/plain": [
       " 2⋅c₀\n",
       "─────\n",
       "η - 1"
      ]
     },
     "execution_count": 9,
     "metadata": {},
     "output_type": "execute_result"
    }
   ],
   "source": [
    "temp = riemann_invariant_conservation\n",
    "temp = sympy.solve(temp.subs(c,0),v)[0]\n",
    "terminal_velocity = temp\n",
    "terminal_velocity"
   ]
  },
  {
   "cell_type": "markdown",
   "metadata": {},
   "source": [
    "Solving the equation of motion"
   ]
  },
  {
   "cell_type": "code",
   "execution_count": 10,
   "metadata": {},
   "outputs": [
    {
     "data": {
      "image/png": "[encoded data removed]",
      "text/latex": [
       "$$m^{\\frac{\\eta - 1}{\\eta + 1}} v_{t}^{\\frac{2 \\eta}{\\eta + 1}} \\left(A p_{0} t\\right)^{\\frac{- \\eta + 1}{\\eta + 1}}$$"
      ],
      "text/plain": [
       " η - 1    2⋅η          -η + 1\n",
       " ─────   ─────         ──────\n",
       " η + 1   η + 1         η + 1 \n",
       "m     ⋅vₜ     ⋅(A⋅p₀⋅t)      "
      ]
     },
     "execution_count": 10,
     "metadata": {},
     "output_type": "execute_result"
    }
   ],
   "source": [
    "y = sympy.Symbol('y', positive=True)\n",
    "v_t = sympy.Symbol('v_t', positive=True)\n",
    "temp = eqn_of_motion\n",
    "temp = temp.subs(p, p_vs_v.subs(v,terminal_velocity*(1-y)))\n",
    "temp = temp.subs(v(t), -terminal_velocity*(1-y(t)))\n",
    "temp = temp.doit()\n",
    "temp = sympy.expand_power_base(temp, force=True)\n",
    "temp = temp.simplify()\n",
    "temp = temp.subs(y(t).diff(t),y/t)\n",
    "temp = sympy.solve(temp,y)[0]\n",
    "temp = (temp*terminal_velocity).subs(c_0,v_t*(eta-1)/2)\n",
    "temp = sympy.expand_power_base(temp,force=True).simplify()\n",
    "asymptotic_velocity = temp\n",
    "asymptotic_velocity"
   ]
  },
  {
   "cell_type": "markdown",
   "metadata": {
    "collapsed": true
   },
   "source": [
    "The thickness of the bullet (size along the direction of motion) increases with time according to"
   ]
  },
  {
   "cell_type": "code",
   "execution_count": 11,
   "metadata": {},
   "outputs": [
    {
     "data": {
      "image/png": "[encoded data removed]",
      "text/latex": [
       "$$\\frac{w_{0} \\left(\\frac{A p_{0}}{m} t\\right)^{\\frac{2}{\\eta + 1}}}{v_{t}^{\\frac{2}{\\eta + 1}}}$$"
      ],
      "text/plain": [
       "                     2  \n",
       "   -2              ─────\n",
       "  ─────            η + 1\n",
       "  η + 1    ⎛A⋅p₀⋅t⎞     \n",
       "vₜ     ⋅w₀⋅⎜──────⎟     \n",
       "           ⎝  m   ⎠     "
      ]
     },
     "execution_count": 11,
     "metadata": {},
     "output_type": "execute_result"
    }
   ],
   "source": [
    "w_0 = sympy.Symbol('w_0', positive=True) # Initial thickness\n",
    "temp = w_0*(p/p_0)**(-1/eta)\n",
    "temp = temp.subs(sympy.solve(entropy_p_vs_c,p,dict=True)[0])\n",
    "temp = temp.subs(c_0, v_t)\n",
    "temp = temp.subs(c, asymptotic_velocity)\n",
    "temp = sympy.expand_power_base(temp).simplify()\n",
    "thickness_history = temp\n",
    "thickness_history"
   ]
  },
  {
   "cell_type": "markdown",
   "metadata": {},
   "source": [
    "Time when the bullet is broken apart by the Rayleigh Taylor instability"
   ]
  },
  {
   "cell_type": "code",
   "execution_count": 12,
   "metadata": {},
   "outputs": [
    {
     "data": {
      "image/png": "[encoded data removed]",
      "text/latex": [
       "$$\\frac{\\sqrt{m} v_{t} \\sqrt{\\eta - 1}}{\\sqrt{A} \\sqrt{p_{0}} \\sqrt{w_{0}} \\sqrt{\\eta + 1}} = 1$$"
      ],
      "text/plain": [
       "             _______          \n",
       "     √m⋅vₜ⋅╲╱ η - 1           \n",
       "────────────────────────── = 1\n",
       "     ____   ____   _______    \n",
       "√A⋅╲╱ p₀ ⋅╲╱ w₀ ⋅╲╱ η + 1     "
      ]
     },
     "execution_count": 12,
     "metadata": {},
     "output_type": "execute_result"
    }
   ],
   "source": [
    "w = sympy.Symbol('w', positive=True) # Current thickness of the bullet\n",
    "a = sympy.Symbol('a', positive=True) # Acceleration\n",
    "temp = sympy.Eq(t*sympy.sqrt(a/w),1)\n",
    "temp = temp.subs(a,-asymptotic_velocity.diff(t)).simplify()\n",
    "temp = temp.subs(w, thickness_history)\n",
    "sympy.expand_power_base(temp).simplify()"
   ]
  },
  {
   "cell_type": "markdown",
   "metadata": {},
   "source": [
    "We have two timescales in this problem: the sound crossing time of the bullet $w_0/v_t$, and the acceleration time $m v_t/A p_0$. If the acceleration time is larger than the sound crossing time, then the bullet disintegrates right at the beginning. If not, then it never will."
   ]
  },
  {
   "cell_type": "markdown",
   "metadata": {},
   "source": [
    "# Relativistic Case"
   ]
  },
  {
   "cell_type": "markdown",
   "metadata": {
    "collapsed": true
   },
   "source": [
    "Equation of motion"
   ]
  },
  {
   "cell_type": "code",
   "execution_count": 13,
   "metadata": {},
   "outputs": [
    {
     "data": {
      "image/png": "[encoded data removed]",
      "text/latex": [
       "$$C m \\frac{d}{d t} \\Gamma\\left(t\\right) = A p$$"
      ],
      "text/plain": [
       "    d             \n",
       "C⋅m⋅──(Γ(t)) = A⋅p\n",
       "    dt            "
      ]
     },
     "execution_count": 13,
     "metadata": {},
     "output_type": "execute_result"
    }
   ],
   "source": [
    "gamma = sympy.Symbol('gamma', positive=True) # Lorentz factor\n",
    "C = sympy.Symbol('C', positive=True) # Speed of light\n",
    "ur_eqn_of_motion = sympy.Eq(C*m*gamma(t).diff(t), A*p)\n",
    "ur_eqn_of_motion"
   ]
  },
  {
   "cell_type": "markdown",
   "metadata": {},
   "source": [
    "Conservation of the relativistic Riemann invariant"
   ]
  },
  {
   "cell_type": "code",
   "execution_count": 14,
   "metadata": {},
   "outputs": [
    {
     "data": {
      "image/png": "[encoded data removed]",
      "text/latex": [
       "$$p = \\gamma^{- \\frac{1}{\\eta} \\sqrt{\\eta - 1}} p_{0}$$"
      ],
      "text/plain": [
       "        _______    \n",
       "     -╲╱ η - 1     \n",
       "     ───────────   \n",
       "          η        \n",
       "p = γ           ⋅p₀"
      ]
     },
     "execution_count": 14,
     "metadata": {},
     "output_type": "execute_result"
    }
   ],
   "source": [
    "ur_riemann_invariant_conservation = sympy.Eq(p,p_0*gamma**(-sympy.sqrt(eta-1)/eta))\n",
    "ur_riemann_invariant_conservation"
   ]
  },
  {
   "cell_type": "markdown",
   "metadata": {},
   "source": [
    "Solving the equation of motion"
   ]
  },
  {
   "cell_type": "code",
   "execution_count": 15,
   "metadata": {},
   "outputs": [
    {
     "data": {
      "image/png": "[encoded data removed]",
      "text/latex": [
       "$$\\left(\\frac{A p_{0} t}{C m}\\right)^{\\frac{\\eta}{\\eta + \\sqrt{\\eta - 1}}}$$"
      ],
      "text/plain": [
       "              η      \n",
       "        ─────────────\n",
       "              _______\n",
       "        η + ╲╱ η - 1 \n",
       "⎛A⋅p₀⋅t⎞             \n",
       "⎜──────⎟             \n",
       "⎝ C⋅m  ⎠             "
      ]
     },
     "execution_count": 15,
     "metadata": {},
     "output_type": "execute_result"
    }
   ],
   "source": [
    "temp = ur_eqn_of_motion.subs(p,ur_riemann_invariant_conservation.rhs)\n",
    "temp = temp.subs(gamma(t).diff(t),gamma/t)\n",
    "lf_history = sympy.solve(temp,gamma)[0]\n",
    "lf_history"
   ]
  },
  {
   "cell_type": "markdown",
   "metadata": {},
   "source": [
    "Pressure history"
   ]
  },
  {
   "cell_type": "code",
   "execution_count": 16,
   "metadata": {},
   "outputs": [
    {
     "data": {
      "image/png": "[encoded data removed]",
      "text/latex": [
       "$$p_{0} \\left(\\left(C m\\right)^{- \\frac{\\eta}{\\eta + \\sqrt{\\eta - 1}}} \\left(A p_{0} t\\right)^{\\frac{\\eta}{\\eta + \\sqrt{\\eta - 1}}}\\right)^{- \\frac{1}{\\eta} \\sqrt{\\eta - 1}}$$"
      ],
      "text/plain": [
       "                                                _______ \n",
       "                                             -╲╱ η - 1  \n",
       "                                             ───────────\n",
       "                                                  η     \n",
       "   ⎛          -η                     η      ⎞           \n",
       "   ⎜     ─────────────         ─────────────⎟           \n",
       "   ⎜           _______               _______⎟           \n",
       "   ⎜     η + ╲╱ η - 1          η + ╲╱ η - 1 ⎟           \n",
       "p₀⋅⎝(C⋅m)             ⋅(A⋅p₀⋅t)             ⎠           "
      ]
     },
     "execution_count": 16,
     "metadata": {},
     "output_type": "execute_result"
    }
   ],
   "source": [
    "temp = ur_riemann_invariant_conservation.rhs\n",
    "ur_pressure_history = temp.subs(gamma, lf_history).simplify()\n",
    "ur_pressure_history"
   ]
  },
  {
   "cell_type": "markdown",
   "metadata": {},
   "source": [
    "Density history"
   ]
  },
  {
   "cell_type": "code",
   "execution_count": 17,
   "metadata": {},
   "outputs": [
    {
     "data": {
      "image/png": "[encoded data removed]",
      "text/latex": [
       "$$\\rho_{0} \\left(\\frac{C m}{A p_{0} t}\\right)^{\\frac{\\sqrt{\\eta - 1}}{\\eta \\left(\\eta + \\sqrt{\\eta - 1}\\right)}}$$"
      ],
      "text/plain": [
       "                 _______    \n",
       "               ╲╱ η - 1     \n",
       "           ─────────────────\n",
       "             ⎛      _______⎞\n",
       "           η⋅⎝η + ╲╱ η - 1 ⎠\n",
       "   ⎛ C⋅m  ⎞                 \n",
       "ρ₀⋅⎜──────⎟                 \n",
       "   ⎝A⋅p₀⋅t⎠                 "
      ]
     },
     "execution_count": 17,
     "metadata": {},
     "output_type": "execute_result"
    }
   ],
   "source": [
    "eta2 = sympy.Symbol('eta2', positive=True)\n",
    "temp = rho_0*(p/p_0)**(1/eta)\n",
    "temp = temp.subs(p,ur_pressure_history)\n",
    "temp = temp.subs(eta,eta2+1)\n",
    "ur_density_history = sympy.expand_power_base(temp,force=True).simplify().subs(eta2, eta-1)\n",
    "ur_density_history"
   ]
  },
  {
   "cell_type": "markdown",
   "metadata": {
    "collapsed": true
   },
   "source": [
    "Now, let us turn our attention to the Riemann problem. On the left (negative) side, there's a photon gas with pressure $p_l$. On the right, there's a cold baryonic matter with mass density $\\rho_r$. Both fluids are stationary. In the case where $p_l/\\rho_r \\ll c^2$, then the first shock is non relativistic, and what we get is basically the non relativistic problem, boosted to a relativistic velocity. If, on the other hand $p_l/\\rho_r \\gg c^2$, then the first shock is relativistic. We call the second case the genuinely relativistic case."
   ]
  },
  {
   "cell_type": "markdown",
   "metadata": {},
   "source": [
    "## Boosted Newtonian Case"
   ]
  },
  {
   "cell_type": "markdown",
   "metadata": {},
   "source": [
    "Thickness of the bullet in the fluid frame"
   ]
  },
  {
   "cell_type": "code",
   "execution_count": 18,
   "metadata": {},
   "outputs": [
    {
     "data": {
      "image/png": "[encoded data removed]",
      "text/latex": [
       "$$w_{0} \\left(\\frac{C m}{A p_{0} t}\\right)^{- \\frac{\\sqrt{\\eta - 1}}{\\eta \\left(\\eta + \\sqrt{\\eta - 1}\\right)}}$$"
      ],
      "text/plain": [
       "                 _______    \n",
       "              -╲╱ η - 1     \n",
       "           ─────────────────\n",
       "             ⎛      _______⎞\n",
       "           η⋅⎝η + ╲╱ η - 1 ⎠\n",
       "   ⎛ C⋅m  ⎞                 \n",
       "w₀⋅⎜──────⎟                 \n",
       "   ⎝A⋅p₀⋅t⎠                 "
      ]
     },
     "execution_count": 18,
     "metadata": {},
     "output_type": "execute_result"
    }
   ],
   "source": [
    "temp = w_0*rho_0/rho\n",
    "temp = temp.subs(rho, ur_density_history)\n",
    "ff_bullet_thickness = temp\n",
    "ff_bullet_thickness"
   ]
  },
  {
   "cell_type": "markdown",
   "metadata": {},
   "source": [
    "Breakup time"
   ]
  },
  {
   "cell_type": "code",
   "execution_count": 19,
   "metadata": {},
   "outputs": [
    {
     "data": {
      "image/png": "[encoded data removed]",
      "text/latex": [
       "$$\\frac{1}{w_{0}} t^{\\frac{1}{\\eta \\left(\\eta + \\sqrt{\\eta - 1}\\right)} \\left(- \\eta^{2} + \\eta \\left(\\eta + \\sqrt{\\eta - 1}\\right) - \\sqrt{\\eta - 1}\\right)} \\left(A p_{0}\\right)^{- \\frac{\\eta^{2} + \\sqrt{\\eta - 1}}{\\eta \\left(\\eta + \\sqrt{\\eta - 1}\\right)}} \\left(C m\\right)^{\\frac{\\eta^{2} + \\sqrt{\\eta - 1}}{\\eta \\left(\\eta + \\sqrt{\\eta - 1}\\right)}}$$"
      ],
      "text/plain": [
       "    2     ⎛      _______⎞     _______        ⎛ 2     _______⎞          2     _\n",
       " - η  + η⋅⎝η + ╲╱ η - 1 ⎠ - ╲╱ η - 1        -⎝η  + ╲╱ η - 1 ⎠         η  + ╲╱ \n",
       " ────────────────────────────────────       ──────────────────      ──────────\n",
       "            ⎛      _______⎞                   ⎛      _______⎞         ⎛      _\n",
       "          η⋅⎝η + ╲╱ η - 1 ⎠                 η⋅⎝η + ╲╱ η - 1 ⎠       η⋅⎝η + ╲╱ \n",
       "t                                    ⋅(A⋅p₀)                  ⋅(C⋅m)          \n",
       "──────────────────────────────────────────────────────────────────────────────\n",
       "                                          w₀                                  \n",
       "\n",
       "______ \n",
       "η - 1  \n",
       "───────\n",
       "______⎞\n",
       "η - 1 ⎠\n",
       "       \n",
       "───────\n",
       "       "
      ]
     },
     "execution_count": 19,
     "metadata": {},
     "output_type": "execute_result"
    }
   ],
   "source": [
    "temp = (t/gamma)**2*a/ff_bullet_thickness\n",
    "temp = temp.subs(gamma, lf_history)\n",
    "temp = temp.subs(a, lf_history/t)\n",
    "temp = temp.subs(eta, eta2+1)\n",
    "temp = sympy.expand_power_base(temp, force=True).simplify().subs(eta2, eta-1).simplify()\n",
    "tentative_growth_factor=temp\n",
    "tentative_growth_factor"
   ]
  },
  {
   "cell_type": "code",
   "execution_count": 20,
   "metadata": {},
   "outputs": [
    {
     "data": {
      "image/png": "[encoded data removed]",
      "text/latex": [
       "$$\\frac{\\left(\\eta - 1\\right)^{\\frac{3}{2}}}{\\eta \\left(\\eta + \\sqrt{\\eta - 1}\\right)}$$"
      ],
      "text/plain": [
       "           3/2   \n",
       "    (η - 1)      \n",
       "─────────────────\n",
       "  ⎛      _______⎞\n",
       "η⋅⎝η + ╲╱ η - 1 ⎠"
      ]
     },
     "execution_count": 20,
     "metadata": {},
     "output_type": "execute_result"
    }
   ],
   "source": [
    "t*sympy.log(tentative_growth_factor).diff(t).simplify()"
   ]
  },
  {
   "cell_type": "code",
   "execution_count": 21,
   "metadata": {},
   "outputs": [
    {
     "data": {
      "image/png": "[encoded data removed]",
      "text/latex": [
       "$$\\left [ \\left(w_{0} \\left(A p_{0}\\right)^{\\frac{\\eta^{2} + \\sqrt{\\eta - 1}}{\\eta \\left(\\eta + \\sqrt{\\eta - 1}\\right)}} \\left(C m\\right)^{- \\frac{\\eta^{2} + \\sqrt{\\eta - 1}}{\\eta \\left(\\eta + \\sqrt{\\eta - 1}\\right)}}\\right)^{\\frac{\\eta \\left(\\eta + \\sqrt{\\eta - 1}\\right)}{\\left(\\eta - 1\\right)^{\\frac{3}{2}}}}, \\quad w_{0}^{\\frac{4 \\sqrt{3}}{3} \\left(\\sqrt{3} + 4\\right)} \\left(\\frac{\\sqrt[3]{A} \\sqrt[3]{p_{0}}}{\\sqrt[3]{C} \\sqrt[3]{m}}\\right)^{\\sqrt{3} \\left(3 \\sqrt{3} + 16\\right)}\\right ]$$"
      ],
      "text/plain": [
       "⎡                                                      ⎛      _______⎞        \n",
       "⎢                                                    η⋅⎝η + ╲╱ η - 1 ⎠        \n",
       "⎢                                                    ─────────────────        \n",
       "⎢                                                               3/2           \n",
       "⎢                                                        (η - 1)              \n",
       "⎢⎛            2     _______        ⎛ 2     _______⎞ ⎞                         \n",
       "⎢⎜           η  + ╲╱ η - 1        -⎝η  + ╲╱ η - 1 ⎠ ⎟                         \n",
       "⎢⎜         ─────────────────      ──────────────────⎟                     4⋅√3\n",
       "⎢⎜           ⎛      _______⎞        ⎛      _______⎞ ⎟                     ────\n",
       "⎢⎜         η⋅⎝η + ╲╱ η - 1 ⎠      η⋅⎝η + ╲╱ η - 1 ⎠ ⎟                         \n",
       "⎢⎝w₀⋅(A⋅p₀)                 ⋅(C⋅m)                  ⎠                 , w₀    \n",
       "⎢                                                                             \n",
       "⎣                                                                             \n",
       "\n",
       "                                      ⎤\n",
       "                                      ⎥\n",
       "                                      ⎥\n",
       "                                      ⎥\n",
       "                                      ⎥\n",
       "                                      ⎥\n",
       "                                      ⎥\n",
       "⋅(√3 + 4)               √3⋅(3⋅√3 + 16)⎥\n",
       "───────── ⎛3 ___ 3 ____⎞              ⎥\n",
       "  3       ⎜╲╱ A ⋅╲╱ p₀ ⎟              ⎥\n",
       "         ⋅⎜────────────⎟              ⎥\n",
       "          ⎜3 ___ 3 ___ ⎟              ⎥\n",
       "          ⎝╲╱ C ⋅╲╱ m  ⎠              ⎦"
      ]
     },
     "execution_count": 21,
     "metadata": {},
     "output_type": "execute_result"
    }
   ],
   "source": [
    "bn_t_breakup = sympy.solve(tentative_growth_factor-1,t)[0]\n",
    "[bn_t_breakup,\n",
    " sympy.expand_power_base(bn_t_breakup, force=True).simplify().subs(eta,sympy.Rational(4,3)).simplify()]"
   ]
  },
  {
   "cell_type": "markdown",
   "metadata": {},
   "source": [
    "## Genuinely Relativistic Case"
   ]
  },
  {
   "cell_type": "markdown",
   "metadata": {},
   "source": [
    "In this case the initial pressure in the bullet will be different from the initial pressure in the barrel. To determine this pressre, we need to find the intersection between the relative Hugoniot (Taub) curve of the bullet and the rarefaction curve of the barrel"
   ]
  },
  {
   "cell_type": "code",
   "execution_count": 22,
   "metadata": {},
   "outputs": [
    {
     "data": {
      "image/png": "[encoded data removed]",
      "text/latex": [
       "$$p = C^{2} \\gamma^{2} \\rho_{0}$$"
      ],
      "text/plain": [
       "     2  2   \n",
       "p = C ⋅γ ⋅ρ₀"
      ]
     },
     "execution_count": 22,
     "metadata": {},
     "output_type": "execute_result"
    }
   ],
   "source": [
    "taub_curve = sympy.Eq(p, rho_0*C**2*gamma**2)\n",
    "taub_curve"
   ]
  },
  {
   "cell_type": "code",
   "execution_count": 23,
   "metadata": {},
   "outputs": [
    {
     "data": {
      "image/png": "[encoded data removed]",
      "text/latex": [
       "$$\\left ( \\left(C^{\\frac{2}{\\eta} \\sqrt{\\eta - 1}} p_{0}^{2} \\rho_{0}^{\\frac{1}{\\eta} \\sqrt{\\eta - 1}}\\right)^{\\frac{\\eta}{2 \\eta + \\sqrt{\\eta - 1}}}, \\quad \\frac{1}{C \\sqrt{\\rho_{0}}} \\sqrt{\\left(C^{\\frac{2}{\\eta} \\sqrt{\\eta - 1}} p_{0}^{2} \\rho_{0}^{\\frac{1}{\\eta} \\sqrt{\\eta - 1}}\\right)^{\\frac{\\eta}{2 \\eta + \\sqrt{\\eta - 1}}}}\\right )$$"
      ],
      "text/plain": [
       "⎛                                                         ____________________\n",
       "⎜                                                        ╱                    \n",
       "⎜                                     η                 ╱                     \n",
       "⎜                              ───────────────         ╱                      \n",
       "⎜                                      _______        ╱                       \n",
       "⎜                              2⋅η + ╲╱ η - 1        ╱     ⎛     _______      \n",
       "⎜⎛     _______         _______⎞                     ╱      ⎜ 2⋅╲╱ η - 1       \n",
       "⎜⎜ 2⋅╲╱ η - 1        ╲╱ η - 1 ⎟                    ╱       ⎜ ───────────      \n",
       "⎜⎜ ───────────       ─────────⎟                   ╱        ⎜      η        2  \n",
       "⎜⎜      η        2       η    ⎟                 ╲╱         ⎝C           ⋅p₀ ⋅ρ\n",
       "⎜⎝C           ⋅p₀ ⋅ρ₀         ⎠               , ──────────────────────────────\n",
       "⎜                                                                            _\n",
       "⎝                                                                        C⋅╲╱ \n",
       "\n",
       "___________________________⎞\n",
       "                  η        ⎟\n",
       "           ─────────────── ⎟\n",
       "                   _______ ⎟\n",
       "           2⋅η + ╲╱ η - 1  ⎟\n",
       "   _______⎞                ⎟\n",
       " ╲╱ η - 1 ⎟                ⎟\n",
       " ─────────⎟                ⎟\n",
       "     η    ⎟                ⎟\n",
       "₀         ⎠                ⎟\n",
       "───────────────────────────⎟\n",
       "___                        ⎟\n",
       "ρ₀                         ⎠"
      ]
     },
     "execution_count": 23,
     "metadata": {},
     "output_type": "execute_result"
    }
   ],
   "source": [
    "rel_riemann_problem_intersection = sympy.solve([taub_curve, ur_riemann_invariant_conservation],[p,gamma])[1]\n",
    "rel_riemann_problem_intersection"
   ]
  },
  {
   "cell_type": "markdown",
   "metadata": {},
   "source": [
    "When calculating the growth factor, one has to take into account the contribution of the pressure to the intertia"
   ]
  },
  {
   "cell_type": "code",
   "execution_count": 24,
   "metadata": {},
   "outputs": [
    {
     "data": {
      "image/png": "[encoded data removed]",
      "text/latex": [
       "$$\\frac{1}{w_{0}} C^{\\frac{1}{\\eta^{2} \\left(\\eta + \\sqrt{\\eta - 1}\\right) \\left(2 \\eta + \\sqrt{\\eta - 1}\\right)} \\left(- \\eta^{2} \\sqrt{\\eta - 1} \\left(\\eta + \\sqrt{\\eta - 1}\\right) + \\eta^{2} \\sqrt{\\eta - 1} \\left(2 \\eta + \\sqrt{\\eta - 1}\\right) + 3 \\eta^{2} \\left(\\eta + \\sqrt{\\eta - 1}\\right) \\left(2 \\eta + \\sqrt{\\eta - 1}\\right) - 2 \\eta \\sqrt{\\eta - 1} \\left(2 \\eta + \\sqrt{\\eta - 1}\\right) - 2 \\eta \\left(\\eta + \\sqrt{\\eta - 1}\\right) \\left(2 \\eta + \\sqrt{\\eta - 1}\\right) + 2 \\eta \\left(\\eta + \\sqrt{\\eta - 1}\\right) \\left(\\eta + \\sqrt{\\eta - 1} - 1\\right) + 4 \\left(- \\eta + 1\\right) \\left(\\eta + \\sqrt{\\eta - 1}\\right)\\right)} p_{0}^{\\frac{1}{\\eta \\left(\\eta + \\sqrt{\\eta - 1}\\right) \\left(2 \\eta + \\sqrt{\\eta - 1}\\right)} \\left(- \\eta \\sqrt{\\eta - 1} \\left(2 \\eta + \\sqrt{\\eta - 1}\\right) + \\eta \\left(\\eta + \\sqrt{\\eta - 1}\\right) \\left(- \\eta + 2 \\sqrt{\\eta - 1} + 2\\right) - 4 \\sqrt{\\eta - 1} \\left(\\eta + \\sqrt{\\eta - 1}\\right) + 2 \\sqrt{\\eta - 1} \\left(2 \\eta + \\sqrt{\\eta - 1}\\right) - 2 \\left(\\eta + \\sqrt{\\eta - 1}\\right) \\left(2 \\eta + \\sqrt{\\eta - 1}\\right)\\right)} \\rho_{0}^{\\frac{1}{2 \\eta^{2} \\left(2 \\eta + \\sqrt{\\eta - 1}\\right)} \\left(- \\eta^{2} \\sqrt{\\eta - 1} + 3 \\eta^{2} \\left(2 \\eta + \\sqrt{\\eta - 1}\\right) - 2 \\eta \\left(2 \\eta + \\sqrt{\\eta - 1}\\right) + 2 \\eta \\left(\\eta + \\sqrt{\\eta - 1} - 1\\right) - 4 \\eta + 4\\right)} \\left(\\frac{m}{A t}\\right)^{\\frac{\\left(\\eta - 2\\right) \\sqrt{\\eta - 1}}{\\eta \\left(\\eta + \\sqrt{\\eta - 1}\\right)}}$$"
      ],
      "text/plain": [
       "                                                                              \n",
       "    2   _______ ⎛      _______⎞    2   _______ ⎛        _______⎞      2 ⎛     \n",
       " - η ⋅╲╱ η - 1 ⋅⎝η + ╲╱ η - 1 ⎠ + η ⋅╲╱ η - 1 ⋅⎝2⋅η + ╲╱ η - 1 ⎠ + 3⋅η ⋅⎝η + ╲\n",
       " ─────────────────────────────────────────────────────────────────────────────\n",
       "                                                                              \n",
       "                                                                              \n",
       "C                                                                             \n",
       "                                                                              \n",
       "──────────────────────────────────────────────────────────────────────────────\n",
       "                                                                              \n",
       "\n",
       "                                                                              \n",
       " _______⎞ ⎛        _______⎞         _______ ⎛        _______⎞       ⎛      ___\n",
       "╱ η - 1 ⎠⋅⎝2⋅η + ╲╱ η - 1 ⎠ - 2⋅η⋅╲╱ η - 1 ⋅⎝2⋅η + ╲╱ η - 1 ⎠ - 2⋅η⋅⎝η + ╲╱ η \n",
       "──────────────────────────────────────────────────────────────────────────────\n",
       "                               2 ⎛      _______⎞ ⎛        _______⎞            \n",
       "                              η ⋅⎝η + ╲╱ η - 1 ⎠⋅⎝2⋅η + ╲╱ η - 1 ⎠            \n",
       "                                                                              \n",
       "                                                                              \n",
       "──────────────────────────────────────────────────────────────────────────────\n",
       "                                                                              \n",
       "\n",
       "                                                                              \n",
       "____⎞ ⎛        _______⎞       ⎛      _______⎞ ⎛      _______    ⎞             \n",
       "- 1 ⎠⋅⎝2⋅η + ╲╱ η - 1 ⎠ + 2⋅η⋅⎝η + ╲╱ η - 1 ⎠⋅⎝η + ╲╱ η - 1  - 1⎠ + 4⋅(-η + 1)\n",
       "──────────────────────────────────────────────────────────────────────────────\n",
       "                                                                              \n",
       "                                                                              \n",
       "                                                                              \n",
       "                                                                              \n",
       "──────────────────────────────────────────────────────────────────────────────\n",
       "                                                                              \n",
       "\n",
       "                                                                              \n",
       " ⎛      _______⎞         _______ ⎛        _______⎞     ⎛      _______⎞ ⎛      \n",
       "⋅⎝η + ╲╱ η - 1 ⎠   - η⋅╲╱ η - 1 ⋅⎝2⋅η + ╲╱ η - 1 ⎠ + η⋅⎝η + ╲╱ η - 1 ⎠⋅⎝-η + 2\n",
       "────────────────   ───────────────────────────────────────────────────────────\n",
       "                                                                              \n",
       "                                                                              \n",
       "                ⋅p₀                                                           \n",
       "                                                                              \n",
       "──────────────────────────────────────────────────────────────────────────────\n",
       "                                         w₀                                   \n",
       "\n",
       "                                                                              \n",
       "   _______    ⎞       _______ ⎛      _______⎞       _______ ⎛        _______⎞ \n",
       "⋅╲╱ η - 1  + 2⎠ - 4⋅╲╱ η - 1 ⋅⎝η + ╲╱ η - 1 ⎠ + 2⋅╲╱ η - 1 ⋅⎝2⋅η + ╲╱ η - 1 ⎠ \n",
       "──────────────────────────────────────────────────────────────────────────────\n",
       "            ⎛      _______⎞ ⎛        _______⎞                                 \n",
       "          η⋅⎝η + ╲╱ η - 1 ⎠⋅⎝2⋅η + ╲╱ η - 1 ⎠                                 \n",
       "                                                                              \n",
       "                                                                              \n",
       "──────────────────────────────────────────────────────────────────────────────\n",
       "                                                                              \n",
       "\n",
       "                                                                              \n",
       "    ⎛      _______⎞ ⎛        _______⎞      2   _______      2 ⎛        _______\n",
       "- 2⋅⎝η + ╲╱ η - 1 ⎠⋅⎝2⋅η + ╲╱ η - 1 ⎠   - η ⋅╲╱ η - 1  + 3⋅η ⋅⎝2⋅η + ╲╱ η - 1 \n",
       "─────────────────────────────────────   ──────────────────────────────────────\n",
       "                                                                              \n",
       "                                                                              \n",
       "                                     ⋅ρ₀                                      \n",
       "                                                                              \n",
       "──────────────────────────────────────────────────────────────────────────────\n",
       "                                                                              \n",
       "\n",
       "                                                                             _\n",
       "⎞       ⎛        _______⎞       ⎛      _______    ⎞                (η - 2)⋅╲╱ \n",
       "⎠ - 2⋅η⋅⎝2⋅η + ╲╱ η - 1 ⎠ + 2⋅η⋅⎝η + ╲╱ η - 1  - 1⎠ - 4⋅η + 4      ───────────\n",
       "─────────────────────────────────────────────────────────────        ⎛      __\n",
       "    2 ⎛        _______⎞                                            η⋅⎝η + ╲╱ η\n",
       " 2⋅η ⋅⎝2⋅η + ╲╱ η - 1 ⎠                                       ⎛ m ⎞           \n",
       "                                                             ⋅⎜───⎟           \n",
       "                                                              ⎝A⋅t⎠           \n",
       "──────────────────────────────────────────────────────────────────────────────\n",
       "                                                                              \n",
       "\n",
       "______\n",
       "η - 1 \n",
       "──────\n",
       "_____⎞\n",
       " - 1 ⎠\n",
       "      \n",
       "      \n",
       "      \n",
       "──────\n",
       "      "
      ]
     },
     "execution_count": 24,
     "metadata": {},
     "output_type": "execute_result"
    }
   ],
   "source": [
    "temp = (t/gamma)*(a/w)*(rho*C**2/p)\n",
    "temp = temp.subs(w,w_0*(rho_0/rho))\n",
    "temp = temp.subs(rho, rho_0*(p/p_0)**(1/eta))\n",
    "temp = temp.subs(p,rel_riemann_problem_intersection[1]*(gamma/rel_riemann_problem_intersection[0])**(sympy.sqrt(eta-1)/eta))\n",
    "temp = temp.subs(a, gamma/t)\n",
    "temp = temp.subs(gamma, lf_history)\n",
    "temp = temp.subs(eta,eta2+1)\n",
    "temp = sympy.expand_power_base(temp, force=True)\n",
    "temp = temp.simplify()\n",
    "temp = temp.subs(eta2, eta-1).simplify()\n",
    "gr_growth_factor = temp\n",
    "gr_growth_factor"
   ]
  },
  {
   "cell_type": "markdown",
   "metadata": {},
   "source": [
    "Breakup time"
   ]
  },
  {
   "cell_type": "code",
   "execution_count": 25,
   "metadata": {},
   "outputs": [
    {
     "data": {
      "image/png": "[encoded data removed]",
      "text/latex": [
       "$$\\frac{m}{A} C^{\\frac{\\left(\\eta + \\sqrt{\\eta - 1}\\right) \\left(6 \\eta^{4} + 10 \\eta^{3} \\sqrt{\\eta - 1} + \\eta^{3} - 6 \\eta^{2} \\sqrt{\\eta - 1} - 11 \\eta^{2} - 6 \\eta \\sqrt{\\eta - 1} + 6 \\eta + 4 \\sqrt{\\eta - 1}\\right)}{\\eta \\left(\\eta - 2\\right) \\sqrt{\\eta - 1} \\left(2 \\eta^{2} + 3 \\eta \\sqrt{\\eta - 1} + \\eta - 1\\right)}} p_{0}^{- \\frac{\\left(\\eta + \\sqrt{\\eta - 1}\\right) \\left(\\eta^{3} + \\eta^{2} \\sqrt{\\eta - 1} + \\eta^{2} + 4 \\eta \\sqrt{\\eta - 1} + 5 \\eta - 4\\right)}{\\left(\\eta - 2\\right) \\sqrt{\\eta - 1} \\left(2 \\eta^{2} + 3 \\eta \\sqrt{\\eta - 1} + \\eta - 1\\right)}} \\rho_{0}^{- \\frac{\\left(\\eta + \\sqrt{\\eta - 1}\\right) \\left(- 3 \\eta^{3} - \\eta^{2} \\sqrt{\\eta - 1} + \\eta^{2} + 3 \\eta - 2\\right)}{\\eta \\left(\\eta - 2\\right) \\sqrt{\\eta - 1} \\left(2 \\eta + \\sqrt{\\eta - 1}\\right)}} w_{0}^{- \\frac{\\eta \\left(\\eta + \\sqrt{\\eta - 1}\\right)}{\\left(\\eta - 2\\right) \\sqrt{\\eta - 1}}}$$"
      ],
      "text/plain": [
       " ⎛      _______⎞ ⎛   4       3   _______    3      2   _______       2        \n",
       " ⎝η + ╲╱ η - 1 ⎠⋅⎝6⋅η  + 10⋅η ⋅╲╱ η - 1  + η  - 6⋅η ⋅╲╱ η - 1  - 11⋅η  - 6⋅η⋅╲\n",
       " ─────────────────────────────────────────────────────────────────────────────\n",
       "                                         _______ ⎛   2         _______        \n",
       "                             η⋅(η - 2)⋅╲╱ η - 1 ⋅⎝2⋅η  + 3⋅η⋅╲╱ η - 1  + η - 1\n",
       "C                                                                             \n",
       "──────────────────────────────────────────────────────────────────────────────\n",
       "                                                                              \n",
       "\n",
       " _______             _______⎞      ⎛      _______⎞ ⎛ 3    2   _______    2    \n",
       "╱ η - 1  + 6⋅η + 4⋅╲╱ η - 1 ⎠     -⎝η + ╲╱ η - 1 ⎠⋅⎝η  + η ⋅╲╱ η - 1  + η  + 4\n",
       "─────────────────────────────     ────────────────────────────────────────────\n",
       "⎞                                                     _______ ⎛   2         __\n",
       "⎠                                           (η - 2)⋅╲╱ η - 1 ⋅⎝2⋅η  + 3⋅η⋅╲╱ η\n",
       "                             ⋅m⋅p₀                                            \n",
       "──────────────────────────────────────────────────────────────────────────────\n",
       "                                                    A                         \n",
       "\n",
       "     _______          ⎞     ⎛      _______⎞ ⎛     3    2   _______    2       \n",
       "⋅η⋅╲╱ η - 1  + 5⋅η - 4⎠    -⎝η + ╲╱ η - 1 ⎠⋅⎝- 3⋅η  - η ⋅╲╱ η - 1  + η  + 3⋅η \n",
       "────────────────────────   ───────────────────────────────────────────────────\n",
       "_____        ⎞                                  _______ ⎛        _______⎞     \n",
       " - 1  + η - 1⎠                      η⋅(η - 2)⋅╲╱ η - 1 ⋅⎝2⋅η + ╲╱ η - 1 ⎠     \n",
       "                        ⋅ρ₀                                                   \n",
       "──────────────────────────────────────────────────────────────────────────────\n",
       "                                                                              \n",
       "\n",
       "   ⎞       ⎛      _______⎞ \n",
       "- 2⎠    -η⋅⎝η + ╲╱ η - 1 ⎠ \n",
       "─────   ───────────────────\n",
       "                   _______ \n",
       "         (η - 2)⋅╲╱ η - 1  \n",
       "     ⋅w₀                   \n",
       "───────────────────────────\n",
       "                           "
      ]
     },
     "execution_count": 25,
     "metadata": {},
     "output_type": "execute_result"
    }
   ],
   "source": [
    "temp = sympy.solve(gr_growth_factor-1,t)[0]\n",
    "temp = temp.subs(eta, eta2+1)\n",
    "gr_breakup_time = sympy.expand_power_base(temp, force=True).simplify().subs(eta2, eta-1)\n",
    "gr_breakup_time"
   ]
  },
  {
   "cell_type": "markdown",
   "metadata": {},
   "source": [
    "For an equation of state with $\\eta=\\frac{4}{3}$"
   ]
  },
  {
   "cell_type": "code",
   "execution_count": 28,
   "metadata": {},
   "outputs": [
    {
     "data": {
      "image/png": "[encoded data removed]",
      "text/latex": [
       "$$\\frac{m p_{0}^{\\frac{220 + \\frac{464 \\sqrt{3}}{3}}{12 \\sqrt{3} + 35}} w_{0}^{2 + \\frac{8 \\sqrt{3}}{3}}}{A C^{\\frac{221 + \\frac{325 \\sqrt{3}}{2}}{12 \\sqrt{3} + 35}} \\rho_{0}^{\\frac{\\frac{77}{4} + 17 \\sqrt{3}}{\\sqrt{3} + 8}}}$$"
      ],
      "text/plain": [
       "     ⎛     25⋅√3⎞        ⎛     116⋅√3⎞                              \n",
       " -13⋅⎜17 + ─────⎟      4⋅⎜55 + ──────⎟                              \n",
       "     ⎝       2  ⎠        ⎝       3   ⎠   -(77/4 + 17⋅√3)        8⋅√3\n",
       " ─────────────────     ───────────────   ────────────────   2 + ────\n",
       "     12⋅√3 + 35           12⋅√3 + 35          √3 + 8             3  \n",
       "C                 ⋅m⋅p₀               ⋅ρ₀                ⋅w₀        \n",
       "────────────────────────────────────────────────────────────────────\n",
       "                                 A                                  "
      ]
     },
     "execution_count": 28,
     "metadata": {},
     "output_type": "execute_result"
    }
   ],
   "source": [
    "gr_breakup_time.subs(eta,sympy.Rational(4,3)).simplify()"
   ]
  },
  {
   "cell_type": "markdown",
   "metadata": {},
   "source": [
    "We note that the relativistic Rayleigh Taylor rate is approximately $\\sqrt{k a\\frac{\\rho_2-\\rho_1}{\\rho_1+\\rho_2+p/c^2}}$. As one might expect, the difference with respect to the newtonian rate is the inclusion of the pressure term as part of the inertia (denominator). It does not appear in the driving term (numerator) because it is the same of both sides."
   ]
  },
  {
   "cell_type": "code",
   "execution_count": null,
   "metadata": {
    "collapsed": true
   },
   "outputs": [],
   "source": []
  }
 ],
 "metadata": {
  "kernelspec": {
   "display_name": "Python 3.6",
   "language": "python",
   "name": "python36"
  },
  "language_info": {
   "codemirror_mode": {
    "name": "ipython",
    "version": 3
   },
   "file_extension": ".py",
   "mimetype": "text/x-python",
   "name": "python",
   "nbconvert_exporter": "python",
   "pygments_lexer": "ipython3",
   "version": "3.6.0"
  }
 },
 "nbformat": 4,
 "nbformat_minor": 2
}
